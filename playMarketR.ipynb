{
 "cells": [
  {
   "cell_type": "code",
   "execution_count": 15,
   "metadata": {
    "vscode": {
     "languageId": "r"
    }
   },
   "outputs": [],
   "source": [
    "library(tidyr)\n",
    "library(readxl)\n",
    "library(dplyr)\n",
    "library(tibble)\n",
    "library(readr)\n",
    "library(vroom)\n",
    "library(magrittr)"
   ]
  },
  {
   "cell_type": "code",
   "execution_count": 16,
   "metadata": {
    "vscode": {
     "languageId": "r"
    }
   },
   "outputs": [
    {
     "name": "stderr",
     "output_type": "stream",
     "text": [
      "\u001b[1mRows: \u001b[22m\u001b[34m50\u001b[39m \u001b[1mColumns: \u001b[22m\u001b[34m42\u001b[39m\n",
      "\u001b[36m──\u001b[39m \u001b[1mColumn specification\u001b[22m \u001b[36m────────────────────────────────────────────────────────\u001b[39m\n",
      "\u001b[1mDelimiter:\u001b[22m \",\"\n",
      "\u001b[31mchr\u001b[39m   (2): PrimaryExch, Ticker\n",
      "\u001b[32mdbl\u001b[39m  (39): PERMNO, PERMCO, NAICS, DlyRet, DlyClose, DlyPrcVol, ShrOut, mkt_c...\n",
      "\u001b[34mdate\u001b[39m  (1): DlyCalDt\n",
      "\n",
      "\u001b[36mℹ\u001b[39m Use `spec()` to retrieve the full column specification for this data.\n",
      "\u001b[36mℹ\u001b[39m Specify the column types or set `show_col_types = FALSE` to quiet this message.\n"
     ]
    }
   ],
   "source": [
    "df <- vroom(\"./data/test_df.csv\")"
   ]
  },
  {
   "cell_type": "code",
   "execution_count": 17,
   "metadata": {
    "vscode": {
     "languageId": "r"
    }
   },
   "outputs": [
    {
     "name": "stdout",
     "output_type": "stream",
     "text": [
      "df type: spec_tbl_df tbl_df tbl data.frameNA row: 0 \n",
      "total row: 50 \n"
     ]
    }
   ],
   "source": [
    "cat(\"df type:\", class(df))\n",
    "cat(\"NA row:\", na_sum <- df |> is.na() |> sum(), \"\\n\")\n",
    "cat(\"total row:\", row_count <- df |> nrow(), \"\\n\")"
   ]
  },
  {
   "cell_type": "markdown",
   "metadata": {},
   "source": [
    "- I have 450M data points, with 70M na data points.\n",
    "- this df is a matrix of factor loadings."
   ]
  },
  {
   "cell_type": "code",
   "execution_count": 18,
   "metadata": {
    "vscode": {
     "languageId": "r"
    }
   },
   "outputs": [],
   "source": [
    "df <- df |> drop_na()"
   ]
  },
  {
   "cell_type": "code",
   "execution_count": 19,
   "metadata": {
    "vscode": {
     "languageId": "r"
    }
   },
   "outputs": [
    {
     "data": {
      "text/html": [
       "50"
      ],
      "text/latex": [
       "50"
      ],
      "text/markdown": [
       "50"
      ],
      "text/plain": [
       "[1] 50"
      ]
     },
     "metadata": {},
     "output_type": "display_data"
    }
   ],
   "source": [
    "df |> nrow()"
   ]
  },
  {
   "cell_type": "code",
   "execution_count": 20,
   "metadata": {
    "vscode": {
     "languageId": "r"
    }
   },
   "outputs": [
    {
     "data": {
      "text/html": [
       "<table class=\"dataframe\">\n",
       "<caption>A tibble: 10 × 42</caption>\n",
       "<thead>\n",
       "\t<tr><th scope=col>DlyCalDt</th><th scope=col>PERMNO</th><th scope=col>PrimaryExch</th><th scope=col>Ticker</th><th scope=col>PERMCO</th><th scope=col>NAICS</th><th scope=col>DlyRet</th><th scope=col>DlyClose</th><th scope=col>DlyPrcVol</th><th scope=col>ShrOut</th><th scope=col>⋯</th><th scope=col>61</th><th scope=col>62</th><th scope=col>71</th><th scope=col>72</th><th scope=col>81</th><th scope=col>Mkt-RF</th><th scope=col>SMB</th><th scope=col>HML</th><th scope=col>RMW</th><th scope=col>CMA</th></tr>\n",
       "\t<tr><th scope=col>&lt;date&gt;</th><th scope=col>&lt;dbl&gt;</th><th scope=col>&lt;chr&gt;</th><th scope=col>&lt;chr&gt;</th><th scope=col>&lt;dbl&gt;</th><th scope=col>&lt;dbl&gt;</th><th scope=col>&lt;dbl&gt;</th><th scope=col>&lt;dbl&gt;</th><th scope=col>&lt;dbl&gt;</th><th scope=col>&lt;dbl&gt;</th><th scope=col>⋯</th><th scope=col>&lt;dbl&gt;</th><th scope=col>&lt;dbl&gt;</th><th scope=col>&lt;dbl&gt;</th><th scope=col>&lt;dbl&gt;</th><th scope=col>&lt;dbl&gt;</th><th scope=col>&lt;dbl&gt;</th><th scope=col>&lt;dbl&gt;</th><th scope=col>&lt;dbl&gt;</th><th scope=col>&lt;dbl&gt;</th><th scope=col>&lt;dbl&gt;</th></tr>\n",
       "</thead>\n",
       "<tbody>\n",
       "\t<tr><td>2014-12-30</td><td>10201</td><td>N</td><td>AT</td><td>53455</td><td>221210</td><td> 0.053232</td><td>2.77</td><td>2771033</td><td>120807</td><td>⋯</td><td>0.0003984650</td><td>0.006308268</td><td>0.006234450</td><td>0.0004465472</td><td>0.001398893</td><td>0.004807800</td><td>0.01983692</td><td>0.004276095</td><td>0.001118078</td><td>1.735135e-04</td></tr>\n",
       "\t<tr><td>2014-12-31</td><td>10201</td><td>N</td><td>AT</td><td>53455</td><td>221210</td><td>-0.021661</td><td>2.71</td><td>3302192</td><td>120807</td><td>⋯</td><td>0.0003743954</td><td>0.006404222</td><td>0.006433283</td><td>0.0004227437</td><td>0.001290364</td><td>0.004810351</td><td>0.02029449</td><td>0.004182638</td><td>0.001206732</td><td>2.747840e-04</td></tr>\n",
       "\t<tr><td>2015-01-02</td><td>10201</td><td>N</td><td>AT</td><td>53455</td><td>221210</td><td> 0.022140</td><td>2.77</td><td>2147132</td><td>120807</td><td>⋯</td><td>0.0003230531</td><td>0.006457209</td><td>0.006159407</td><td>0.0004163812</td><td>0.001435487</td><td>0.004644876</td><td>0.02006377</td><td>0.004133112</td><td>0.001336805</td><td>3.414797e-04</td></tr>\n",
       "\t<tr><td>2015-01-05</td><td>10201</td><td>N</td><td>AT</td><td>53455</td><td>221210</td><td>-0.036101</td><td>2.67</td><td>1806282</td><td>120807</td><td>⋯</td><td>0.0002690752</td><td>0.007008520</td><td>0.005757968</td><td>0.0004009668</td><td>0.001480679</td><td>0.004971695</td><td>0.01977130</td><td>0.003588448</td><td>0.001456374</td><td>4.794632e-04</td></tr>\n",
       "\t<tr><td>2015-01-06</td><td>10201</td><td>N</td><td>AT</td><td>53455</td><td>221210</td><td>-0.022472</td><td>2.61</td><td>1532728</td><td>120807</td><td>⋯</td><td>0.0002684075</td><td>0.006899471</td><td>0.005755318</td><td>0.0004072147</td><td>0.001502714</td><td>0.004960499</td><td>0.01903742</td><td>0.003601511</td><td>0.001482031</td><td>4.680275e-04</td></tr>\n",
       "\t<tr><td>2015-01-07</td><td>10201</td><td>N</td><td>AT</td><td>53455</td><td>221210</td><td> 0.019157</td><td>2.66</td><td>1183769</td><td>120807</td><td>⋯</td><td>0.0001515868</td><td>0.005698709</td><td>0.006113965</td><td>0.0003768751</td><td>0.001839057</td><td>0.004811205</td><td>0.01981890</td><td>0.003167600</td><td>0.001464311</td><td>5.078051e-04</td></tr>\n",
       "\t<tr><td>2015-01-08</td><td>10201</td><td>N</td><td>AT</td><td>53455</td><td>221210</td><td> 0.000000</td><td>2.66</td><td>1424922</td><td>120807</td><td>⋯</td><td>0.0009478124</td><td>0.005472804</td><td>0.005694322</td><td>0.0004484693</td><td>0.002290324</td><td>0.004984205</td><td>0.01814415</td><td>0.003308986</td><td>0.001795031</td><td>4.857526e-04</td></tr>\n",
       "\t<tr><td>2015-01-09</td><td>10201</td><td>N</td><td>AT</td><td>53455</td><td>221210</td><td>-0.003759</td><td>2.65</td><td>1029533</td><td>120807</td><td>⋯</td><td>0.0009174669</td><td>0.006551886</td><td>0.005993428</td><td>0.0004219383</td><td>0.002406609</td><td>0.004056540</td><td>0.01816386</td><td>0.003761724</td><td>0.002232331</td><td>6.219171e-05</td></tr>\n",
       "\t<tr><td>2015-01-12</td><td>10201</td><td>N</td><td>AT</td><td>53455</td><td>221210</td><td>-0.003774</td><td>2.64</td><td>1927739</td><td>120807</td><td>⋯</td><td>0.0008877086</td><td>0.006194295</td><td>0.006158241</td><td>0.0004880464</td><td>0.002319415</td><td>0.004027107</td><td>0.01918192</td><td>0.003798470</td><td>0.002182084</td><td>9.108992e-05</td></tr>\n",
       "\t<tr><td>2015-01-13</td><td>10201</td><td>N</td><td>AT</td><td>53455</td><td>221210</td><td> 0.011364</td><td>2.67</td><td>1324301</td><td>120807</td><td>⋯</td><td>0.0008829936</td><td>0.006441494</td><td>0.006602246</td><td>0.0005333268</td><td>0.002364590</td><td>0.003121600</td><td>0.01966308</td><td>0.002617963</td><td>0.002606329</td><td>3.619746e-04</td></tr>\n",
       "</tbody>\n",
       "</table>\n"
      ],
      "text/latex": [
       "A tibble: 10 × 42\n",
       "\\begin{tabular}{lllllllllllllllllllll}\n",
       " DlyCalDt & PERMNO & PrimaryExch & Ticker & PERMCO & NAICS & DlyRet & DlyClose & DlyPrcVol & ShrOut & ⋯ & 61 & 62 & 71 & 72 & 81 & Mkt-RF & SMB & HML & RMW & CMA\\\\\n",
       " <date> & <dbl> & <chr> & <chr> & <dbl> & <dbl> & <dbl> & <dbl> & <dbl> & <dbl> & ⋯ & <dbl> & <dbl> & <dbl> & <dbl> & <dbl> & <dbl> & <dbl> & <dbl> & <dbl> & <dbl>\\\\\n",
       "\\hline\n",
       "\t 2014-12-30 & 10201 & N & AT & 53455 & 221210 &  0.053232 & 2.77 & 2771033 & 120807 & ⋯ & 0.0003984650 & 0.006308268 & 0.006234450 & 0.0004465472 & 0.001398893 & 0.004807800 & 0.01983692 & 0.004276095 & 0.001118078 & 1.735135e-04\\\\\n",
       "\t 2014-12-31 & 10201 & N & AT & 53455 & 221210 & -0.021661 & 2.71 & 3302192 & 120807 & ⋯ & 0.0003743954 & 0.006404222 & 0.006433283 & 0.0004227437 & 0.001290364 & 0.004810351 & 0.02029449 & 0.004182638 & 0.001206732 & 2.747840e-04\\\\\n",
       "\t 2015-01-02 & 10201 & N & AT & 53455 & 221210 &  0.022140 & 2.77 & 2147132 & 120807 & ⋯ & 0.0003230531 & 0.006457209 & 0.006159407 & 0.0004163812 & 0.001435487 & 0.004644876 & 0.02006377 & 0.004133112 & 0.001336805 & 3.414797e-04\\\\\n",
       "\t 2015-01-05 & 10201 & N & AT & 53455 & 221210 & -0.036101 & 2.67 & 1806282 & 120807 & ⋯ & 0.0002690752 & 0.007008520 & 0.005757968 & 0.0004009668 & 0.001480679 & 0.004971695 & 0.01977130 & 0.003588448 & 0.001456374 & 4.794632e-04\\\\\n",
       "\t 2015-01-06 & 10201 & N & AT & 53455 & 221210 & -0.022472 & 2.61 & 1532728 & 120807 & ⋯ & 0.0002684075 & 0.006899471 & 0.005755318 & 0.0004072147 & 0.001502714 & 0.004960499 & 0.01903742 & 0.003601511 & 0.001482031 & 4.680275e-04\\\\\n",
       "\t 2015-01-07 & 10201 & N & AT & 53455 & 221210 &  0.019157 & 2.66 & 1183769 & 120807 & ⋯ & 0.0001515868 & 0.005698709 & 0.006113965 & 0.0003768751 & 0.001839057 & 0.004811205 & 0.01981890 & 0.003167600 & 0.001464311 & 5.078051e-04\\\\\n",
       "\t 2015-01-08 & 10201 & N & AT & 53455 & 221210 &  0.000000 & 2.66 & 1424922 & 120807 & ⋯ & 0.0009478124 & 0.005472804 & 0.005694322 & 0.0004484693 & 0.002290324 & 0.004984205 & 0.01814415 & 0.003308986 & 0.001795031 & 4.857526e-04\\\\\n",
       "\t 2015-01-09 & 10201 & N & AT & 53455 & 221210 & -0.003759 & 2.65 & 1029533 & 120807 & ⋯ & 0.0009174669 & 0.006551886 & 0.005993428 & 0.0004219383 & 0.002406609 & 0.004056540 & 0.01816386 & 0.003761724 & 0.002232331 & 6.219171e-05\\\\\n",
       "\t 2015-01-12 & 10201 & N & AT & 53455 & 221210 & -0.003774 & 2.64 & 1927739 & 120807 & ⋯ & 0.0008877086 & 0.006194295 & 0.006158241 & 0.0004880464 & 0.002319415 & 0.004027107 & 0.01918192 & 0.003798470 & 0.002182084 & 9.108992e-05\\\\\n",
       "\t 2015-01-13 & 10201 & N & AT & 53455 & 221210 &  0.011364 & 2.67 & 1324301 & 120807 & ⋯ & 0.0008829936 & 0.006441494 & 0.006602246 & 0.0005333268 & 0.002364590 & 0.003121600 & 0.01966308 & 0.002617963 & 0.002606329 & 3.619746e-04\\\\\n",
       "\\end{tabular}\n"
      ],
      "text/markdown": [
       "\n",
       "A tibble: 10 × 42\n",
       "\n",
       "| DlyCalDt &lt;date&gt; | PERMNO &lt;dbl&gt; | PrimaryExch &lt;chr&gt; | Ticker &lt;chr&gt; | PERMCO &lt;dbl&gt; | NAICS &lt;dbl&gt; | DlyRet &lt;dbl&gt; | DlyClose &lt;dbl&gt; | DlyPrcVol &lt;dbl&gt; | ShrOut &lt;dbl&gt; | ⋯ ⋯ | 61 &lt;dbl&gt; | 62 &lt;dbl&gt; | 71 &lt;dbl&gt; | 72 &lt;dbl&gt; | 81 &lt;dbl&gt; | Mkt-RF &lt;dbl&gt; | SMB &lt;dbl&gt; | HML &lt;dbl&gt; | RMW &lt;dbl&gt; | CMA &lt;dbl&gt; |\n",
       "|---|---|---|---|---|---|---|---|---|---|---|---|---|---|---|---|---|---|---|---|---|\n",
       "| 2014-12-30 | 10201 | N | AT | 53455 | 221210 |  0.053232 | 2.77 | 2771033 | 120807 | ⋯ | 0.0003984650 | 0.006308268 | 0.006234450 | 0.0004465472 | 0.001398893 | 0.004807800 | 0.01983692 | 0.004276095 | 0.001118078 | 1.735135e-04 |\n",
       "| 2014-12-31 | 10201 | N | AT | 53455 | 221210 | -0.021661 | 2.71 | 3302192 | 120807 | ⋯ | 0.0003743954 | 0.006404222 | 0.006433283 | 0.0004227437 | 0.001290364 | 0.004810351 | 0.02029449 | 0.004182638 | 0.001206732 | 2.747840e-04 |\n",
       "| 2015-01-02 | 10201 | N | AT | 53455 | 221210 |  0.022140 | 2.77 | 2147132 | 120807 | ⋯ | 0.0003230531 | 0.006457209 | 0.006159407 | 0.0004163812 | 0.001435487 | 0.004644876 | 0.02006377 | 0.004133112 | 0.001336805 | 3.414797e-04 |\n",
       "| 2015-01-05 | 10201 | N | AT | 53455 | 221210 | -0.036101 | 2.67 | 1806282 | 120807 | ⋯ | 0.0002690752 | 0.007008520 | 0.005757968 | 0.0004009668 | 0.001480679 | 0.004971695 | 0.01977130 | 0.003588448 | 0.001456374 | 4.794632e-04 |\n",
       "| 2015-01-06 | 10201 | N | AT | 53455 | 221210 | -0.022472 | 2.61 | 1532728 | 120807 | ⋯ | 0.0002684075 | 0.006899471 | 0.005755318 | 0.0004072147 | 0.001502714 | 0.004960499 | 0.01903742 | 0.003601511 | 0.001482031 | 4.680275e-04 |\n",
       "| 2015-01-07 | 10201 | N | AT | 53455 | 221210 |  0.019157 | 2.66 | 1183769 | 120807 | ⋯ | 0.0001515868 | 0.005698709 | 0.006113965 | 0.0003768751 | 0.001839057 | 0.004811205 | 0.01981890 | 0.003167600 | 0.001464311 | 5.078051e-04 |\n",
       "| 2015-01-08 | 10201 | N | AT | 53455 | 221210 |  0.000000 | 2.66 | 1424922 | 120807 | ⋯ | 0.0009478124 | 0.005472804 | 0.005694322 | 0.0004484693 | 0.002290324 | 0.004984205 | 0.01814415 | 0.003308986 | 0.001795031 | 4.857526e-04 |\n",
       "| 2015-01-09 | 10201 | N | AT | 53455 | 221210 | -0.003759 | 2.65 | 1029533 | 120807 | ⋯ | 0.0009174669 | 0.006551886 | 0.005993428 | 0.0004219383 | 0.002406609 | 0.004056540 | 0.01816386 | 0.003761724 | 0.002232331 | 6.219171e-05 |\n",
       "| 2015-01-12 | 10201 | N | AT | 53455 | 221210 | -0.003774 | 2.64 | 1927739 | 120807 | ⋯ | 0.0008877086 | 0.006194295 | 0.006158241 | 0.0004880464 | 0.002319415 | 0.004027107 | 0.01918192 | 0.003798470 | 0.002182084 | 9.108992e-05 |\n",
       "| 2015-01-13 | 10201 | N | AT | 53455 | 221210 |  0.011364 | 2.67 | 1324301 | 120807 | ⋯ | 0.0008829936 | 0.006441494 | 0.006602246 | 0.0005333268 | 0.002364590 | 0.003121600 | 0.01966308 | 0.002617963 | 0.002606329 | 3.619746e-04 |\n",
       "\n"
      ],
      "text/plain": [
       "   DlyCalDt   PERMNO PrimaryExch Ticker PERMCO NAICS  DlyRet    DlyClose\n",
       "1  2014-12-30 10201  N           AT     53455  221210  0.053232 2.77    \n",
       "2  2014-12-31 10201  N           AT     53455  221210 -0.021661 2.71    \n",
       "3  2015-01-02 10201  N           AT     53455  221210  0.022140 2.77    \n",
       "4  2015-01-05 10201  N           AT     53455  221210 -0.036101 2.67    \n",
       "5  2015-01-06 10201  N           AT     53455  221210 -0.022472 2.61    \n",
       "6  2015-01-07 10201  N           AT     53455  221210  0.019157 2.66    \n",
       "7  2015-01-08 10201  N           AT     53455  221210  0.000000 2.66    \n",
       "8  2015-01-09 10201  N           AT     53455  221210 -0.003759 2.65    \n",
       "9  2015-01-12 10201  N           AT     53455  221210 -0.003774 2.64    \n",
       "10 2015-01-13 10201  N           AT     53455  221210  0.011364 2.67    \n",
       "   DlyPrcVol ShrOut ⋯ 61           62          71          72          \n",
       "1  2771033   120807 ⋯ 0.0003984650 0.006308268 0.006234450 0.0004465472\n",
       "2  3302192   120807 ⋯ 0.0003743954 0.006404222 0.006433283 0.0004227437\n",
       "3  2147132   120807 ⋯ 0.0003230531 0.006457209 0.006159407 0.0004163812\n",
       "4  1806282   120807 ⋯ 0.0002690752 0.007008520 0.005757968 0.0004009668\n",
       "5  1532728   120807 ⋯ 0.0002684075 0.006899471 0.005755318 0.0004072147\n",
       "6  1183769   120807 ⋯ 0.0001515868 0.005698709 0.006113965 0.0003768751\n",
       "7  1424922   120807 ⋯ 0.0009478124 0.005472804 0.005694322 0.0004484693\n",
       "8  1029533   120807 ⋯ 0.0009174669 0.006551886 0.005993428 0.0004219383\n",
       "9  1927739   120807 ⋯ 0.0008877086 0.006194295 0.006158241 0.0004880464\n",
       "10 1324301   120807 ⋯ 0.0008829936 0.006441494 0.006602246 0.0005333268\n",
       "   81          Mkt-RF      SMB        HML         RMW         CMA         \n",
       "1  0.001398893 0.004807800 0.01983692 0.004276095 0.001118078 1.735135e-04\n",
       "2  0.001290364 0.004810351 0.02029449 0.004182638 0.001206732 2.747840e-04\n",
       "3  0.001435487 0.004644876 0.02006377 0.004133112 0.001336805 3.414797e-04\n",
       "4  0.001480679 0.004971695 0.01977130 0.003588448 0.001456374 4.794632e-04\n",
       "5  0.001502714 0.004960499 0.01903742 0.003601511 0.001482031 4.680275e-04\n",
       "6  0.001839057 0.004811205 0.01981890 0.003167600 0.001464311 5.078051e-04\n",
       "7  0.002290324 0.004984205 0.01814415 0.003308986 0.001795031 4.857526e-04\n",
       "8  0.002406609 0.004056540 0.01816386 0.003761724 0.002232331 6.219171e-05\n",
       "9  0.002319415 0.004027107 0.01918192 0.003798470 0.002182084 9.108992e-05\n",
       "10 0.002364590 0.003121600 0.01966308 0.002617963 0.002606329 3.619746e-04"
      ]
     },
     "metadata": {},
     "output_type": "display_data"
    }
   ],
   "source": [
    "head(df, 10)"
   ]
  },
  {
   "cell_type": "code",
   "execution_count": 21,
   "metadata": {
    "vscode": {
     "languageId": "r"
    }
   },
   "outputs": [],
   "source": [
    "uti_df <- df |> # nolint: object_name_linter.\n",
    "  filter(floor(NAICS / 10000) == 22) |>\n",
    "  select(DlyCalDt, Ticker, NAICS, DlyRet, DlyPrcVol, `Mkt-RF`) |>\n",
    "  group_by(DlyCalDt, Ticker)"
   ]
  },
  {
   "cell_type": "code",
   "execution_count": 22,
   "metadata": {
    "vscode": {
     "languageId": "r"
    }
   },
   "outputs": [
    {
     "data": {
      "text/html": [
       "<table class=\"dataframe\">\n",
       "<caption>A grouped_df: 20 × 6</caption>\n",
       "<thead>\n",
       "\t<tr><th scope=col>DlyCalDt</th><th scope=col>Ticker</th><th scope=col>NAICS</th><th scope=col>DlyRet</th><th scope=col>DlyPrcVol</th><th scope=col>Mkt-RF</th></tr>\n",
       "\t<tr><th scope=col>&lt;date&gt;</th><th scope=col>&lt;chr&gt;</th><th scope=col>&lt;dbl&gt;</th><th scope=col>&lt;dbl&gt;</th><th scope=col>&lt;dbl&gt;</th><th scope=col>&lt;dbl&gt;</th></tr>\n",
       "</thead>\n",
       "<tbody>\n",
       "\t<tr><td>2014-12-30</td><td>AT</td><td>221210</td><td> 0.053232</td><td>2771033</td><td>0.004807800</td></tr>\n",
       "\t<tr><td>2014-12-31</td><td>AT</td><td>221210</td><td>-0.021661</td><td>3302192</td><td>0.004810351</td></tr>\n",
       "\t<tr><td>2015-01-02</td><td>AT</td><td>221210</td><td> 0.022140</td><td>2147132</td><td>0.004644876</td></tr>\n",
       "\t<tr><td>2015-01-05</td><td>AT</td><td>221210</td><td>-0.036101</td><td>1806282</td><td>0.004971695</td></tr>\n",
       "\t<tr><td>2015-01-06</td><td>AT</td><td>221210</td><td>-0.022472</td><td>1532728</td><td>0.004960499</td></tr>\n",
       "\t<tr><td>2015-01-07</td><td>AT</td><td>221210</td><td> 0.019157</td><td>1183769</td><td>0.004811205</td></tr>\n",
       "\t<tr><td>2015-01-08</td><td>AT</td><td>221210</td><td> 0.000000</td><td>1424922</td><td>0.004984205</td></tr>\n",
       "\t<tr><td>2015-01-09</td><td>AT</td><td>221210</td><td>-0.003759</td><td>1029533</td><td>0.004056540</td></tr>\n",
       "\t<tr><td>2015-01-12</td><td>AT</td><td>221210</td><td>-0.003774</td><td>1927739</td><td>0.004027107</td></tr>\n",
       "\t<tr><td>2015-01-13</td><td>AT</td><td>221210</td><td> 0.011364</td><td>1324301</td><td>0.003121600</td></tr>\n",
       "\t<tr><td>2015-01-14</td><td>AT</td><td>221210</td><td> 0.011236</td><td>1910887</td><td>0.003047382</td></tr>\n",
       "\t<tr><td>2015-01-15</td><td>AT</td><td>221210</td><td>-0.029630</td><td>1354433</td><td>0.003630659</td></tr>\n",
       "\t<tr><td>2015-01-16</td><td>AT</td><td>221210</td><td> 0.022901</td><td>1215911</td><td>0.004603296</td></tr>\n",
       "\t<tr><td>2015-01-20</td><td>AT</td><td>221210</td><td>-0.011194</td><td>2395650</td><td>0.005064670</td></tr>\n",
       "\t<tr><td>2015-01-21</td><td>AT</td><td>221210</td><td> 0.011321</td><td>1685511</td><td>0.005257244</td></tr>\n",
       "\t<tr><td>2015-01-22</td><td>AT</td><td>221210</td><td> 0.011194</td><td>2302741</td><td>0.004924825</td></tr>\n",
       "\t<tr><td>2015-01-23</td><td>AT</td><td>221210</td><td> 0.007380</td><td>1474274</td><td>0.005115031</td></tr>\n",
       "\t<tr><td>2015-01-26</td><td>AT</td><td>221210</td><td> 0.021978</td><td>1878446</td><td>0.005632742</td></tr>\n",
       "\t<tr><td>2015-01-27</td><td>AT</td><td>221210</td><td>-0.007168</td><td>1548178</td><td>0.007222575</td></tr>\n",
       "\t<tr><td>2015-01-28</td><td>AT</td><td>221210</td><td>-0.003610</td><td>2910252</td><td>0.007615972</td></tr>\n",
       "</tbody>\n",
       "</table>\n"
      ],
      "text/latex": [
       "A grouped\\_df: 20 × 6\n",
       "\\begin{tabular}{llllll}\n",
       " DlyCalDt & Ticker & NAICS & DlyRet & DlyPrcVol & Mkt-RF\\\\\n",
       " <date> & <chr> & <dbl> & <dbl> & <dbl> & <dbl>\\\\\n",
       "\\hline\n",
       "\t 2014-12-30 & AT & 221210 &  0.053232 & 2771033 & 0.004807800\\\\\n",
       "\t 2014-12-31 & AT & 221210 & -0.021661 & 3302192 & 0.004810351\\\\\n",
       "\t 2015-01-02 & AT & 221210 &  0.022140 & 2147132 & 0.004644876\\\\\n",
       "\t 2015-01-05 & AT & 221210 & -0.036101 & 1806282 & 0.004971695\\\\\n",
       "\t 2015-01-06 & AT & 221210 & -0.022472 & 1532728 & 0.004960499\\\\\n",
       "\t 2015-01-07 & AT & 221210 &  0.019157 & 1183769 & 0.004811205\\\\\n",
       "\t 2015-01-08 & AT & 221210 &  0.000000 & 1424922 & 0.004984205\\\\\n",
       "\t 2015-01-09 & AT & 221210 & -0.003759 & 1029533 & 0.004056540\\\\\n",
       "\t 2015-01-12 & AT & 221210 & -0.003774 & 1927739 & 0.004027107\\\\\n",
       "\t 2015-01-13 & AT & 221210 &  0.011364 & 1324301 & 0.003121600\\\\\n",
       "\t 2015-01-14 & AT & 221210 &  0.011236 & 1910887 & 0.003047382\\\\\n",
       "\t 2015-01-15 & AT & 221210 & -0.029630 & 1354433 & 0.003630659\\\\\n",
       "\t 2015-01-16 & AT & 221210 &  0.022901 & 1215911 & 0.004603296\\\\\n",
       "\t 2015-01-20 & AT & 221210 & -0.011194 & 2395650 & 0.005064670\\\\\n",
       "\t 2015-01-21 & AT & 221210 &  0.011321 & 1685511 & 0.005257244\\\\\n",
       "\t 2015-01-22 & AT & 221210 &  0.011194 & 2302741 & 0.004924825\\\\\n",
       "\t 2015-01-23 & AT & 221210 &  0.007380 & 1474274 & 0.005115031\\\\\n",
       "\t 2015-01-26 & AT & 221210 &  0.021978 & 1878446 & 0.005632742\\\\\n",
       "\t 2015-01-27 & AT & 221210 & -0.007168 & 1548178 & 0.007222575\\\\\n",
       "\t 2015-01-28 & AT & 221210 & -0.003610 & 2910252 & 0.007615972\\\\\n",
       "\\end{tabular}\n"
      ],
      "text/markdown": [
       "\n",
       "A grouped_df: 20 × 6\n",
       "\n",
       "| DlyCalDt &lt;date&gt; | Ticker &lt;chr&gt; | NAICS &lt;dbl&gt; | DlyRet &lt;dbl&gt; | DlyPrcVol &lt;dbl&gt; | Mkt-RF &lt;dbl&gt; |\n",
       "|---|---|---|---|---|---|\n",
       "| 2014-12-30 | AT | 221210 |  0.053232 | 2771033 | 0.004807800 |\n",
       "| 2014-12-31 | AT | 221210 | -0.021661 | 3302192 | 0.004810351 |\n",
       "| 2015-01-02 | AT | 221210 |  0.022140 | 2147132 | 0.004644876 |\n",
       "| 2015-01-05 | AT | 221210 | -0.036101 | 1806282 | 0.004971695 |\n",
       "| 2015-01-06 | AT | 221210 | -0.022472 | 1532728 | 0.004960499 |\n",
       "| 2015-01-07 | AT | 221210 |  0.019157 | 1183769 | 0.004811205 |\n",
       "| 2015-01-08 | AT | 221210 |  0.000000 | 1424922 | 0.004984205 |\n",
       "| 2015-01-09 | AT | 221210 | -0.003759 | 1029533 | 0.004056540 |\n",
       "| 2015-01-12 | AT | 221210 | -0.003774 | 1927739 | 0.004027107 |\n",
       "| 2015-01-13 | AT | 221210 |  0.011364 | 1324301 | 0.003121600 |\n",
       "| 2015-01-14 | AT | 221210 |  0.011236 | 1910887 | 0.003047382 |\n",
       "| 2015-01-15 | AT | 221210 | -0.029630 | 1354433 | 0.003630659 |\n",
       "| 2015-01-16 | AT | 221210 |  0.022901 | 1215911 | 0.004603296 |\n",
       "| 2015-01-20 | AT | 221210 | -0.011194 | 2395650 | 0.005064670 |\n",
       "| 2015-01-21 | AT | 221210 |  0.011321 | 1685511 | 0.005257244 |\n",
       "| 2015-01-22 | AT | 221210 |  0.011194 | 2302741 | 0.004924825 |\n",
       "| 2015-01-23 | AT | 221210 |  0.007380 | 1474274 | 0.005115031 |\n",
       "| 2015-01-26 | AT | 221210 |  0.021978 | 1878446 | 0.005632742 |\n",
       "| 2015-01-27 | AT | 221210 | -0.007168 | 1548178 | 0.007222575 |\n",
       "| 2015-01-28 | AT | 221210 | -0.003610 | 2910252 | 0.007615972 |\n",
       "\n"
      ],
      "text/plain": [
       "   DlyCalDt   Ticker NAICS  DlyRet    DlyPrcVol Mkt-RF     \n",
       "1  2014-12-30 AT     221210  0.053232 2771033   0.004807800\n",
       "2  2014-12-31 AT     221210 -0.021661 3302192   0.004810351\n",
       "3  2015-01-02 AT     221210  0.022140 2147132   0.004644876\n",
       "4  2015-01-05 AT     221210 -0.036101 1806282   0.004971695\n",
       "5  2015-01-06 AT     221210 -0.022472 1532728   0.004960499\n",
       "6  2015-01-07 AT     221210  0.019157 1183769   0.004811205\n",
       "7  2015-01-08 AT     221210  0.000000 1424922   0.004984205\n",
       "8  2015-01-09 AT     221210 -0.003759 1029533   0.004056540\n",
       "9  2015-01-12 AT     221210 -0.003774 1927739   0.004027107\n",
       "10 2015-01-13 AT     221210  0.011364 1324301   0.003121600\n",
       "11 2015-01-14 AT     221210  0.011236 1910887   0.003047382\n",
       "12 2015-01-15 AT     221210 -0.029630 1354433   0.003630659\n",
       "13 2015-01-16 AT     221210  0.022901 1215911   0.004603296\n",
       "14 2015-01-20 AT     221210 -0.011194 2395650   0.005064670\n",
       "15 2015-01-21 AT     221210  0.011321 1685511   0.005257244\n",
       "16 2015-01-22 AT     221210  0.011194 2302741   0.004924825\n",
       "17 2015-01-23 AT     221210  0.007380 1474274   0.005115031\n",
       "18 2015-01-26 AT     221210  0.021978 1878446   0.005632742\n",
       "19 2015-01-27 AT     221210 -0.007168 1548178   0.007222575\n",
       "20 2015-01-28 AT     221210 -0.003610 2910252   0.007615972"
      ]
     },
     "metadata": {},
     "output_type": "display_data"
    }
   ],
   "source": [
    "head(uti_df, 20)"
   ]
  },
  {
   "cell_type": "code",
   "execution_count": 23,
   "metadata": {
    "vscode": {
     "languageId": "r"
    }
   },
   "outputs": [],
   "source": [
    "library(broom)"
   ]
  },
  {
   "cell_type": "code",
   "execution_count": 24,
   "metadata": {
    "vscode": {
     "languageId": "r"
    }
   },
   "outputs": [],
   "source": [
    "ticker_AT <- uti_df |> filter(Ticker == \"AT\") # nolint: object_name_linter."
   ]
  },
  {
   "cell_type": "markdown",
   "metadata": {},
   "source": [
    "<span style=\"color:green\">\n",
    "Now we have each Ticker's daily return vs. daily Mkt-df rf return, we could sort of test their correlation of returns or price changes.\n",
    "</span>"
   ]
  },
  {
   "cell_type": "code",
   "execution_count": 25,
   "metadata": {
    "vscode": {
     "languageId": "r"
    }
   },
   "outputs": [
    {
     "data": {
      "text/plain": [
       "\n",
       "Call:\n",
       "lm(formula = `Mkt-RF` ~ DlyRet + DlyPrcVol, data = ticker_AT)\n",
       "\n",
       "Residuals:\n",
       "       Min         1Q     Median         3Q        Max \n",
       "-0.0030023 -0.0017325 -0.0000804  0.0014524  0.0049006 \n",
       "\n",
       "Coefficients:\n",
       "              Estimate Std. Error t value Pr(>|t|)    \n",
       "(Intercept)  3.038e-03  6.482e-04   4.687  2.4e-05 ***\n",
       "DlyRet      -1.773e-02  1.320e-02  -1.344    0.185    \n",
       "DlyPrcVol    3.213e-10  2.857e-10   1.125    0.266    \n",
       "---\n",
       "Signif. codes:  0 ‘***’ 0.001 ‘**’ 0.01 ‘*’ 0.05 ‘.’ 0.1 ‘ ’ 1\n",
       "\n",
       "Residual standard error: 0.002033 on 47 degrees of freedom\n",
       "Multiple R-squared:  0.04758,\tAdjusted R-squared:  0.007054 \n",
       "F-statistic: 1.174 on 2 and 47 DF,  p-value: 0.318\n"
      ]
     },
     "metadata": {},
     "output_type": "display_data"
    }
   ],
   "source": [
    "# Bias strongly against scientific notation\n",
    "ols_model <- lm(`Mkt-RF` ~ DlyRet + DlyPrcVol, data = ticker_AT)\n",
    "summary(ols_model)"
   ]
  },
  {
   "cell_type": "markdown",
   "metadata": {},
   "source": [
    "- a p-value value < then 0.05 indicates that such coefficient has "
   ]
  },
  {
   "cell_type": "code",
   "execution_count": 26,
   "metadata": {
    "vscode": {
     "languageId": "r"
    }
   },
   "outputs": [
    {
     "data": {
      "text/html": [
       "<table class=\"dataframe\">\n",
       "<caption>A tibble: 1 × 12</caption>\n",
       "<thead>\n",
       "\t<tr><th scope=col>r.squared</th><th scope=col>adj.r.squared</th><th scope=col>sigma</th><th scope=col>statistic</th><th scope=col>p.value</th><th scope=col>df</th><th scope=col>logLik</th><th scope=col>AIC</th><th scope=col>BIC</th><th scope=col>deviance</th><th scope=col>df.residual</th><th scope=col>nobs</th></tr>\n",
       "\t<tr><th scope=col>&lt;dbl&gt;</th><th scope=col>&lt;dbl&gt;</th><th scope=col>&lt;dbl&gt;</th><th scope=col>&lt;dbl&gt;</th><th scope=col>&lt;dbl&gt;</th><th scope=col>&lt;dbl&gt;</th><th scope=col>&lt;dbl&gt;</th><th scope=col>&lt;dbl&gt;</th><th scope=col>&lt;dbl&gt;</th><th scope=col>&lt;dbl&gt;</th><th scope=col>&lt;int&gt;</th><th scope=col>&lt;int&gt;</th></tr>\n",
       "</thead>\n",
       "<tbody>\n",
       "\t<tr><td>0.04758235</td><td>0.007053937</td><td>0.002032809</td><td>1.174049</td><td>0.3180129</td><td>2</td><td>240.5168</td><td>-473.0336</td><td>-465.3855</td><td>0.0001942188</td><td>47</td><td>50</td></tr>\n",
       "</tbody>\n",
       "</table>\n"
      ],
      "text/latex": [
       "A tibble: 1 × 12\n",
       "\\begin{tabular}{llllllllllll}\n",
       " r.squared & adj.r.squared & sigma & statistic & p.value & df & logLik & AIC & BIC & deviance & df.residual & nobs\\\\\n",
       " <dbl> & <dbl> & <dbl> & <dbl> & <dbl> & <dbl> & <dbl> & <dbl> & <dbl> & <dbl> & <int> & <int>\\\\\n",
       "\\hline\n",
       "\t 0.04758235 & 0.007053937 & 0.002032809 & 1.174049 & 0.3180129 & 2 & 240.5168 & -473.0336 & -465.3855 & 0.0001942188 & 47 & 50\\\\\n",
       "\\end{tabular}\n"
      ],
      "text/markdown": [
       "\n",
       "A tibble: 1 × 12\n",
       "\n",
       "| r.squared &lt;dbl&gt; | adj.r.squared &lt;dbl&gt; | sigma &lt;dbl&gt; | statistic &lt;dbl&gt; | p.value &lt;dbl&gt; | df &lt;dbl&gt; | logLik &lt;dbl&gt; | AIC &lt;dbl&gt; | BIC &lt;dbl&gt; | deviance &lt;dbl&gt; | df.residual &lt;int&gt; | nobs &lt;int&gt; |\n",
       "|---|---|---|---|---|---|---|---|---|---|---|---|\n",
       "| 0.04758235 | 0.007053937 | 0.002032809 | 1.174049 | 0.3180129 | 2 | 240.5168 | -473.0336 | -465.3855 | 0.0001942188 | 47 | 50 |\n",
       "\n"
      ],
      "text/plain": [
       "      r.squared  adj.r.squared sigma       statistic p.value   df logLik  \n",
       "value 0.04758235 0.007053937   0.002032809 1.174049  0.3180129 2  240.5168\n",
       "      AIC       BIC       deviance     df.residual nobs\n",
       "value -473.0336 -465.3855 0.0001942188 47          50  "
      ]
     },
     "metadata": {},
     "output_type": "display_data"
    }
   ],
   "source": [
    "broom::glance(ols_model)"
   ]
  },
  {
   "cell_type": "markdown",
   "metadata": {},
   "source": [
    "- Cut the df and run a distribution chart over the years you want.\n",
    "- Plot the correlation matrix as well."
   ]
  }
 ],
 "metadata": {
  "kernelspec": {
   "display_name": "IR-Conda Base",
   "language": "R",
   "name": "ir-conda"
  },
  "language_info": {
   "codemirror_mode": "r",
   "file_extension": ".r",
   "mimetype": "text/x-r-source",
   "name": "R",
   "pygments_lexer": "r",
   "version": "4.4.2"
  }
 },
 "nbformat": 4,
 "nbformat_minor": 4
}
